{
 "cells": [
  {
   "cell_type": "code",
   "execution_count": 282,
   "metadata": {},
   "outputs": [],
   "source": [
    "import numpy as np\n",
    "import pandas as pd\n",
    "import matplotlib.pyplot as plt\n",
    "data=pd.read_csv('Coursework_1_data(1).csv')"
   ]
  },
  {
   "cell_type": "markdown",
   "metadata": {},
   "source": []
  },
  {
   "cell_type": "markdown",
   "metadata": {},
   "source": [
    "# DATA EXPLORATION"
   ]
  },
  {
   "cell_type": "markdown",
   "metadata": {},
   "source": [
    "## Basic exploration"
   ]
  },
  {
   "cell_type": "code",
   "execution_count": 283,
   "metadata": {},
   "outputs": [
    {
     "data": {
      "text/html": [
       "<div>\n",
       "<style scoped>\n",
       "    .dataframe tbody tr th:only-of-type {\n",
       "        vertical-align: middle;\n",
       "    }\n",
       "\n",
       "    .dataframe tbody tr th {\n",
       "        vertical-align: top;\n",
       "    }\n",
       "\n",
       "    .dataframe thead th {\n",
       "        text-align: right;\n",
       "    }\n",
       "</style>\n",
       "<table border=\"1\" class=\"dataframe\">\n",
       "  <thead>\n",
       "    <tr style=\"text-align: right;\">\n",
       "      <th></th>\n",
       "      <th>Administrative</th>\n",
       "      <th>Administrative_Duration</th>\n",
       "      <th>Informational</th>\n",
       "      <th>Informational_Duration</th>\n",
       "      <th>ProductRelated</th>\n",
       "      <th>ProductRelated_Duration</th>\n",
       "      <th>BounceRates</th>\n",
       "      <th>ExitRates</th>\n",
       "      <th>PageValues</th>\n",
       "      <th>SpecialDay</th>\n",
       "      <th>Month</th>\n",
       "      <th>OperatingSystems</th>\n",
       "      <th>Browser</th>\n",
       "      <th>Region</th>\n",
       "      <th>TrafficType</th>\n",
       "      <th>VisitorType</th>\n",
       "      <th>Weekend</th>\n",
       "      <th>Revenue</th>\n",
       "    </tr>\n",
       "  </thead>\n",
       "  <tbody>\n",
       "    <tr>\n",
       "      <th>0</th>\n",
       "      <td>0</td>\n",
       "      <td>0.0</td>\n",
       "      <td>0</td>\n",
       "      <td>0.0</td>\n",
       "      <td>1</td>\n",
       "      <td>0.000000</td>\n",
       "      <td>0.20</td>\n",
       "      <td>0.20</td>\n",
       "      <td>0.0</td>\n",
       "      <td>0.0</td>\n",
       "      <td>Feb</td>\n",
       "      <td>1</td>\n",
       "      <td>1</td>\n",
       "      <td>1</td>\n",
       "      <td>1</td>\n",
       "      <td>Returning_Visitor</td>\n",
       "      <td>False</td>\n",
       "      <td>False</td>\n",
       "    </tr>\n",
       "    <tr>\n",
       "      <th>1</th>\n",
       "      <td>0</td>\n",
       "      <td>0.0</td>\n",
       "      <td>0</td>\n",
       "      <td>0.0</td>\n",
       "      <td>2</td>\n",
       "      <td>64.000000</td>\n",
       "      <td>0.00</td>\n",
       "      <td>0.10</td>\n",
       "      <td>0.0</td>\n",
       "      <td>0.0</td>\n",
       "      <td>Feb</td>\n",
       "      <td>2</td>\n",
       "      <td>2</td>\n",
       "      <td>1</td>\n",
       "      <td>2</td>\n",
       "      <td>Returning_Visitor</td>\n",
       "      <td>False</td>\n",
       "      <td>False</td>\n",
       "    </tr>\n",
       "    <tr>\n",
       "      <th>2</th>\n",
       "      <td>0</td>\n",
       "      <td>0.0</td>\n",
       "      <td>0</td>\n",
       "      <td>0.0</td>\n",
       "      <td>1</td>\n",
       "      <td>0.000000</td>\n",
       "      <td>0.20</td>\n",
       "      <td>0.20</td>\n",
       "      <td>0.0</td>\n",
       "      <td>0.0</td>\n",
       "      <td>Feb</td>\n",
       "      <td>4</td>\n",
       "      <td>1</td>\n",
       "      <td>9</td>\n",
       "      <td>3</td>\n",
       "      <td>Returning_Visitor</td>\n",
       "      <td>False</td>\n",
       "      <td>False</td>\n",
       "    </tr>\n",
       "    <tr>\n",
       "      <th>3</th>\n",
       "      <td>0</td>\n",
       "      <td>0.0</td>\n",
       "      <td>0</td>\n",
       "      <td>0.0</td>\n",
       "      <td>2</td>\n",
       "      <td>2.666667</td>\n",
       "      <td>0.05</td>\n",
       "      <td>0.14</td>\n",
       "      <td>0.0</td>\n",
       "      <td>0.0</td>\n",
       "      <td>Feb</td>\n",
       "      <td>3</td>\n",
       "      <td>2</td>\n",
       "      <td>2</td>\n",
       "      <td>4</td>\n",
       "      <td>Returning_Visitor</td>\n",
       "      <td>False</td>\n",
       "      <td>False</td>\n",
       "    </tr>\n",
       "    <tr>\n",
       "      <th>4</th>\n",
       "      <td>0</td>\n",
       "      <td>0.0</td>\n",
       "      <td>0</td>\n",
       "      <td>0.0</td>\n",
       "      <td>10</td>\n",
       "      <td>627.500000</td>\n",
       "      <td>0.02</td>\n",
       "      <td>0.05</td>\n",
       "      <td>0.0</td>\n",
       "      <td>0.0</td>\n",
       "      <td>Feb</td>\n",
       "      <td>3</td>\n",
       "      <td>3</td>\n",
       "      <td>1</td>\n",
       "      <td>4</td>\n",
       "      <td>Returning_Visitor</td>\n",
       "      <td>True</td>\n",
       "      <td>False</td>\n",
       "    </tr>\n",
       "  </tbody>\n",
       "</table>\n",
       "</div>"
      ],
      "text/plain": [
       "   Administrative  Administrative_Duration  Informational  \\\n",
       "0               0                      0.0              0   \n",
       "1               0                      0.0              0   \n",
       "2               0                      0.0              0   \n",
       "3               0                      0.0              0   \n",
       "4               0                      0.0              0   \n",
       "\n",
       "   Informational_Duration  ProductRelated  ProductRelated_Duration  \\\n",
       "0                     0.0               1                 0.000000   \n",
       "1                     0.0               2                64.000000   \n",
       "2                     0.0               1                 0.000000   \n",
       "3                     0.0               2                 2.666667   \n",
       "4                     0.0              10               627.500000   \n",
       "\n",
       "   BounceRates  ExitRates  PageValues  SpecialDay Month  OperatingSystems  \\\n",
       "0         0.20       0.20         0.0         0.0   Feb                 1   \n",
       "1         0.00       0.10         0.0         0.0   Feb                 2   \n",
       "2         0.20       0.20         0.0         0.0   Feb                 4   \n",
       "3         0.05       0.14         0.0         0.0   Feb                 3   \n",
       "4         0.02       0.05         0.0         0.0   Feb                 3   \n",
       "\n",
       "   Browser  Region  TrafficType        VisitorType  Weekend  Revenue  \n",
       "0        1       1            1  Returning_Visitor    False    False  \n",
       "1        2       1            2  Returning_Visitor    False    False  \n",
       "2        1       9            3  Returning_Visitor    False    False  \n",
       "3        2       2            4  Returning_Visitor    False    False  \n",
       "4        3       1            4  Returning_Visitor     True    False  "
      ]
     },
     "execution_count": 283,
     "metadata": {},
     "output_type": "execute_result"
    }
   ],
   "source": [
    "data.head()   #Lets take a first look from data"
   ]
  },
  {
   "cell_type": "markdown",
   "metadata": {},
   "source": [
    "As we cam see from the data we have 17 X input features  and 1  Y label \"Revenue\"\n",
    "\n",
    "We can see that he dataset consists of 9 numerical and 9 categorical attributes.\n",
    "\n",
    "Categorical=SpecialDay,Month,OperatingSystems,Browser,Region,TrafficType,VisitorType,Weekend,Revenue\n",
    "\n",
    "Numerial=Administrative, Administrative_Duration, Informational, Informational_Duration,ProductRelated, ProductRelated_Duration ,BounceRates, ExitRates ,PageValues"
   ]
  },
  {
   "cell_type": "code",
   "execution_count": 284,
   "metadata": {},
   "outputs": [
    {
     "name": "stdout",
     "output_type": "stream",
     "text": [
      "<class 'pandas.core.frame.DataFrame'>\n",
      "RangeIndex: 12330 entries, 0 to 12329\n",
      "Data columns (total 18 columns):\n",
      "Administrative             12330 non-null int64\n",
      "Administrative_Duration    12330 non-null float64\n",
      "Informational              12330 non-null int64\n",
      "Informational_Duration     12330 non-null float64\n",
      "ProductRelated             12330 non-null int64\n",
      "ProductRelated_Duration    12330 non-null float64\n",
      "BounceRates                12330 non-null float64\n",
      "ExitRates                  12330 non-null float64\n",
      "PageValues                 12330 non-null float64\n",
      "SpecialDay                 12330 non-null float64\n",
      "Month                      12330 non-null object\n",
      "OperatingSystems           12330 non-null int64\n",
      "Browser                    12330 non-null int64\n",
      "Region                     12330 non-null int64\n",
      "TrafficType                12330 non-null int64\n",
      "VisitorType                12330 non-null object\n",
      "Weekend                    12330 non-null bool\n",
      "Revenue                    12330 non-null bool\n",
      "dtypes: bool(2), float64(7), int64(7), object(2)\n",
      "memory usage: 1.5+ MB\n"
     ]
    }
   ],
   "source": [
    "#Lets take a second closer look at data\n",
    "(data.shape)\n",
    "(data.info())\n"
   ]
  },
  {
   "cell_type": "markdown",
   "metadata": {},
   "source": [
    "We can see we mainly have numeric  int64 and float64.We also have two object Values for Month and Visitor Type and two bool values for Weekend and Revenue. \n",
    "\n",
    "The dataset consists of 9 numerical and 9 categorical attributes.\n",
    "\n",
    "Categorical=SpecialDay,Month,OperatingSystems,Browser,Region,TrafficType,VisitorType,Weekend,Revenue\n",
    "\n",
    "Numerial=Administrative, Administrative_Duration,  Informational,  Informational_Duration,ProductRelated,   ProductRelated_Duration ,BounceRates ExitRates ,PageValues   "
   ]
  },
  {
   "cell_type": "code",
   "execution_count": 285,
   "metadata": {},
   "outputs": [
    {
     "data": {
      "text/plain": [
       "False    10422\n",
       "True      1908\n",
       "Name: Revenue, dtype: int64"
      ]
     },
     "execution_count": 285,
     "metadata": {},
     "output_type": "execute_result"
    }
   ],
   "source": []
  },
  {
   "cell_type": "markdown",
   "metadata": {},
   "source": []
  },
  {
   "cell_type": "code",
   "execution_count": 2,
   "metadata": {
    "ExecuteTime": {
     "end_time": "2021-01-31T02:09:57.154222Z",
     "start_time": "2021-01-31T02:09:57.148225Z"
    }
   },
   "outputs": [
    {
     "ename": "NameError",
     "evalue": "name 'data' is not defined",
     "output_type": "error",
     "traceback": [
      "\u001b[1;31m---------------------------------------------------------------------------\u001b[0m",
      "\u001b[1;31mNameError\u001b[0m                                 Traceback (most recent call last)",
      "\u001b[1;32m<ipython-input-2-854da780de72>\u001b[0m in \u001b[0;36m<module>\u001b[1;34m\u001b[0m\n\u001b[1;32m----> 1\u001b[1;33m \u001b[0mdata\u001b[0m\u001b[1;33m[\u001b[0m\u001b[1;34m'Revenue'\u001b[0m\u001b[1;33m]\u001b[0m\u001b[1;33m.\u001b[0m\u001b[0mvalue_counts\u001b[0m\u001b[1;33m(\u001b[0m\u001b[1;33m)\u001b[0m\u001b[1;33m\u001b[0m\u001b[1;33m\u001b[0m\u001b[0m\n\u001b[0m\u001b[0;32m      2\u001b[0m \u001b[0mplt\u001b[0m\u001b[1;33m.\u001b[0m\u001b[0mtitle\u001b[0m\u001b[1;33m(\u001b[0m\u001b[1;34m'Revenue Counts'\u001b[0m\u001b[1;33m)\u001b[0m\u001b[1;33m\u001b[0m\u001b[1;33m\u001b[0m\u001b[0m\n\u001b[0;32m      3\u001b[0m \u001b[0mplt\u001b[0m\u001b[1;33m.\u001b[0m\u001b[0mbar\u001b[0m\u001b[1;33m(\u001b[0m\u001b[1;34m'False'\u001b[0m\u001b[1;33m,\u001b[0m\u001b[1;36m10422\u001b[0m\u001b[1;33m)\u001b[0m\u001b[1;33m\u001b[0m\u001b[1;33m\u001b[0m\u001b[0m\n\u001b[0;32m      4\u001b[0m \u001b[0mplt\u001b[0m\u001b[1;33m.\u001b[0m\u001b[0mbar\u001b[0m\u001b[1;33m(\u001b[0m\u001b[1;34m'True'\u001b[0m\u001b[1;33m,\u001b[0m\u001b[1;36m1908\u001b[0m\u001b[1;33m)\u001b[0m\u001b[1;33m\u001b[0m\u001b[1;33m\u001b[0m\u001b[0m\n\u001b[0;32m      5\u001b[0m \u001b[0mplt\u001b[0m\u001b[1;33m.\u001b[0m\u001b[0mshow\u001b[0m\u001b[1;33m(\u001b[0m\u001b[1;33m)\u001b[0m\u001b[1;33m\u001b[0m\u001b[1;33m\u001b[0m\u001b[0m\n",
      "\u001b[1;31mNameError\u001b[0m: name 'data' is not defined"
     ]
    }
   ],
   "source": [
    "data['Revenue'].value_counts() \n",
    "plt.title('Revenue Counts')\n",
    "plt.bar('False',10422)\n",
    "plt.bar('True',1908)\n",
    "plt.show()"
   ]
  },
  {
   "cell_type": "markdown",
   "metadata": {},
   "source": [
    "In order to know the relationship between de Features we will use the correlation between a pair of variables, \n",
    "\n",
    "This is measure in a range type [-1, 1] where 1 indicates full linear relationship, 0 no linear relationship, -1 negatively linear relationship.\n",
    "\n"
   ]
  },
  {
   "cell_type": "code",
   "execution_count": 287,
   "metadata": {},
   "outputs": [
    {
     "name": "stdout",
     "output_type": "stream",
     "text": [
      "                         Administrative  Administrative_Duration  \\\n",
      "Administrative                 1.000000                 0.601583   \n",
      "Administrative_Duration        0.601583                 1.000000   \n",
      "Informational                  0.376850                 0.302710   \n",
      "Informational_Duration         0.255848                 0.238031   \n",
      "ProductRelated                 0.431119                 0.289087   \n",
      "ProductRelated_Duration        0.373939                 0.355422   \n",
      "BounceRates                   -0.223563                -0.144170   \n",
      "ExitRates                     -0.316483                -0.205798   \n",
      "PageValues                     0.098990                 0.067608   \n",
      "SpecialDay                    -0.094778                -0.073304   \n",
      "OperatingSystems              -0.006347                -0.007343   \n",
      "Browser                       -0.025035                -0.015392   \n",
      "Region                        -0.005487                -0.005561   \n",
      "TrafficType                   -0.033561                -0.014376   \n",
      "Weekend                        0.026417                 0.014990   \n",
      "Revenue                        0.138917                 0.093587   \n",
      "\n",
      "                         Informational  Informational_Duration  \\\n",
      "Administrative                0.376850                0.255848   \n",
      "Administrative_Duration       0.302710                0.238031   \n",
      "Informational                 1.000000                0.618955   \n",
      "Informational_Duration        0.618955                1.000000   \n",
      "ProductRelated                0.374164                0.280046   \n",
      "ProductRelated_Duration       0.387505                0.347364   \n",
      "BounceRates                  -0.116114               -0.074067   \n",
      "ExitRates                    -0.163666               -0.105276   \n",
      "PageValues                    0.048632                0.030861   \n",
      "SpecialDay                   -0.048219               -0.030577   \n",
      "OperatingSystems             -0.009527               -0.009579   \n",
      "Browser                      -0.038235               -0.019285   \n",
      "Region                       -0.029169               -0.027144   \n",
      "TrafficType                  -0.034491               -0.024675   \n",
      "Weekend                       0.035785                0.024078   \n",
      "Revenue                       0.095200                0.070345   \n",
      "\n",
      "                         ProductRelated  ProductRelated_Duration  BounceRates  \\\n",
      "Administrative                 0.431119                 0.373939    -0.223563   \n",
      "Administrative_Duration        0.289087                 0.355422    -0.144170   \n",
      "Informational                  0.374164                 0.387505    -0.116114   \n",
      "Informational_Duration         0.280046                 0.347364    -0.074067   \n",
      "ProductRelated                 1.000000                 0.860927    -0.204578   \n",
      "ProductRelated_Duration        0.860927                 1.000000    -0.184541   \n",
      "BounceRates                   -0.204578                -0.184541     1.000000   \n",
      "ExitRates                     -0.292526                -0.251984     0.913004   \n",
      "PageValues                     0.056282                 0.052823    -0.119386   \n",
      "SpecialDay                    -0.023958                -0.036380     0.072702   \n",
      "OperatingSystems               0.004290                 0.002976     0.023823   \n",
      "Browser                       -0.013146                -0.007380    -0.015772   \n",
      "Region                        -0.038122                -0.033091    -0.006485   \n",
      "TrafficType                   -0.043064                -0.036377     0.078286   \n",
      "Weekend                        0.016092                 0.007311    -0.046514   \n",
      "Revenue                        0.158538                 0.152373    -0.150673   \n",
      "\n",
      "                         ExitRates  PageValues  SpecialDay  OperatingSystems  \\\n",
      "Administrative           -0.316483    0.098990   -0.094778         -0.006347   \n",
      "Administrative_Duration  -0.205798    0.067608   -0.073304         -0.007343   \n",
      "Informational            -0.163666    0.048632   -0.048219         -0.009527   \n",
      "Informational_Duration   -0.105276    0.030861   -0.030577         -0.009579   \n",
      "ProductRelated           -0.292526    0.056282   -0.023958          0.004290   \n",
      "ProductRelated_Duration  -0.251984    0.052823   -0.036380          0.002976   \n",
      "BounceRates               0.913004   -0.119386    0.072702          0.023823   \n",
      "ExitRates                 1.000000   -0.174498    0.102242          0.014567   \n",
      "PageValues               -0.174498    1.000000   -0.063541          0.018508   \n",
      "SpecialDay                0.102242   -0.063541    1.000000          0.012652   \n",
      "OperatingSystems          0.014567    0.018508    0.012652          1.000000   \n",
      "Browser                  -0.004442    0.045592    0.003499          0.223013   \n",
      "Region                   -0.008907    0.011315   -0.016098          0.076775   \n",
      "TrafficType               0.078616    0.012532    0.052301          0.189154   \n",
      "Weekend                  -0.062587    0.012002   -0.016767          0.000284   \n",
      "Revenue                  -0.207071    0.492569   -0.082305         -0.014668   \n",
      "\n",
      "                          Browser    Region  TrafficType   Weekend   Revenue  \n",
      "Administrative          -0.025035 -0.005487    -0.033561  0.026417  0.138917  \n",
      "Administrative_Duration -0.015392 -0.005561    -0.014376  0.014990  0.093587  \n",
      "Informational           -0.038235 -0.029169    -0.034491  0.035785  0.095200  \n",
      "Informational_Duration  -0.019285 -0.027144    -0.024675  0.024078  0.070345  \n",
      "ProductRelated          -0.013146 -0.038122    -0.043064  0.016092  0.158538  \n",
      "ProductRelated_Duration -0.007380 -0.033091    -0.036377  0.007311  0.152373  \n",
      "BounceRates             -0.015772 -0.006485     0.078286 -0.046514 -0.150673  \n",
      "ExitRates               -0.004442 -0.008907     0.078616 -0.062587 -0.207071  \n",
      "PageValues               0.045592  0.011315     0.012532  0.012002  0.492569  \n",
      "SpecialDay               0.003499 -0.016098     0.052301 -0.016767 -0.082305  \n",
      "OperatingSystems         0.223013  0.076775     0.189154  0.000284 -0.014668  \n",
      "Browser                  1.000000  0.097393     0.111938 -0.040261  0.023984  \n",
      "Region                   0.097393  1.000000     0.047520 -0.000691 -0.011595  \n",
      "TrafficType              0.111938  0.047520     1.000000 -0.002221 -0.005113  \n",
      "Weekend                 -0.040261 -0.000691    -0.002221  1.000000  0.029295  \n",
      "Revenue                  0.023984 -0.011595    -0.005113  0.029295  1.000000  \n"
     ]
    }
   ],
   "source": [
    "corr_matrix = data.corr()\n",
    "print(corr_matrix)"
   ]
  },
  {
   "cell_type": "markdown",
   "metadata": {},
   "source": [
    "Since we are dealing with a lot of features in the correlation matrix we could filter the matrix for values only >0.5 for possitive correlation and <-0.5 for negative correlation in order  to know if there exist a strong correlaction \n",
    "\n"
   ]
  },
  {
   "cell_type": "code",
   "execution_count": 288,
   "metadata": {},
   "outputs": [
    {
     "name": "stdout",
     "output_type": "stream",
     "text": [
      "                         Administrative  Administrative_Duration  \\\n",
      "Administrative                     True                     True   \n",
      "Administrative_Duration            True                     True   \n",
      "Informational                     False                    False   \n",
      "Informational_Duration            False                    False   \n",
      "ProductRelated                    False                    False   \n",
      "ProductRelated_Duration           False                    False   \n",
      "BounceRates                       False                    False   \n",
      "ExitRates                         False                    False   \n",
      "PageValues                        False                    False   \n",
      "SpecialDay                        False                    False   \n",
      "OperatingSystems                  False                    False   \n",
      "Browser                           False                    False   \n",
      "Region                            False                    False   \n",
      "TrafficType                       False                    False   \n",
      "Weekend                           False                    False   \n",
      "Revenue                           False                    False   \n",
      "\n",
      "                         Informational  Informational_Duration  \\\n",
      "Administrative                   False                   False   \n",
      "Administrative_Duration          False                   False   \n",
      "Informational                     True                    True   \n",
      "Informational_Duration            True                    True   \n",
      "ProductRelated                   False                   False   \n",
      "ProductRelated_Duration          False                   False   \n",
      "BounceRates                      False                   False   \n",
      "ExitRates                        False                   False   \n",
      "PageValues                       False                   False   \n",
      "SpecialDay                       False                   False   \n",
      "OperatingSystems                 False                   False   \n",
      "Browser                          False                   False   \n",
      "Region                           False                   False   \n",
      "TrafficType                      False                   False   \n",
      "Weekend                          False                   False   \n",
      "Revenue                          False                   False   \n",
      "\n",
      "                         ProductRelated  ProductRelated_Duration  BounceRates  \\\n",
      "Administrative                    False                    False        False   \n",
      "Administrative_Duration           False                    False        False   \n",
      "Informational                     False                    False        False   \n",
      "Informational_Duration            False                    False        False   \n",
      "ProductRelated                     True                     True        False   \n",
      "ProductRelated_Duration            True                     True        False   \n",
      "BounceRates                       False                    False         True   \n",
      "ExitRates                         False                    False         True   \n",
      "PageValues                        False                    False        False   \n",
      "SpecialDay                        False                    False        False   \n",
      "OperatingSystems                  False                    False        False   \n",
      "Browser                           False                    False        False   \n",
      "Region                            False                    False        False   \n",
      "TrafficType                       False                    False        False   \n",
      "Weekend                           False                    False        False   \n",
      "Revenue                           False                    False        False   \n",
      "\n",
      "                         ExitRates  PageValues  SpecialDay  OperatingSystems  \\\n",
      "Administrative               False       False       False             False   \n",
      "Administrative_Duration      False       False       False             False   \n",
      "Informational                False       False       False             False   \n",
      "Informational_Duration       False       False       False             False   \n",
      "ProductRelated               False       False       False             False   \n",
      "ProductRelated_Duration      False       False       False             False   \n",
      "BounceRates                   True       False       False             False   \n",
      "ExitRates                     True       False       False             False   \n",
      "PageValues                   False        True       False             False   \n",
      "SpecialDay                   False       False        True             False   \n",
      "OperatingSystems             False       False       False              True   \n",
      "Browser                      False       False       False             False   \n",
      "Region                       False       False       False             False   \n",
      "TrafficType                  False       False       False             False   \n",
      "Weekend                      False       False       False             False   \n",
      "Revenue                      False       False       False             False   \n",
      "\n",
      "                         Browser  Region  TrafficType  Weekend  Revenue  \n",
      "Administrative             False   False        False    False    False  \n",
      "Administrative_Duration    False   False        False    False    False  \n",
      "Informational              False   False        False    False    False  \n",
      "Informational_Duration     False   False        False    False    False  \n",
      "ProductRelated             False   False        False    False    False  \n",
      "ProductRelated_Duration    False   False        False    False    False  \n",
      "BounceRates                False   False        False    False    False  \n",
      "ExitRates                  False   False        False    False    False  \n",
      "PageValues                 False   False        False    False    False  \n",
      "SpecialDay                 False   False        False    False    False  \n",
      "OperatingSystems           False   False        False    False    False  \n",
      "Browser                     True   False        False    False    False  \n",
      "Region                     False    True        False    False    False  \n",
      "TrafficType                False   False         True    False    False  \n",
      "Weekend                    False   False        False     True    False  \n",
      "Revenue                    False   False        False    False     True  \n"
     ]
    }
   ],
   "source": [
    "print(corr_matrix>0.5)"
   ]
  },
  {
   "cell_type": "code",
   "execution_count": 289,
   "metadata": {},
   "outputs": [
    {
     "name": "stdout",
     "output_type": "stream",
     "text": [
      "                         Administrative  Administrative_Duration  \\\n",
      "Administrative                    False                    False   \n",
      "Administrative_Duration           False                    False   \n",
      "Informational                     False                    False   \n",
      "Informational_Duration            False                    False   \n",
      "ProductRelated                    False                    False   \n",
      "ProductRelated_Duration           False                    False   \n",
      "BounceRates                       False                    False   \n",
      "ExitRates                         False                    False   \n",
      "PageValues                        False                    False   \n",
      "SpecialDay                        False                    False   \n",
      "OperatingSystems                  False                    False   \n",
      "Browser                           False                    False   \n",
      "Region                            False                    False   \n",
      "TrafficType                       False                    False   \n",
      "Weekend                           False                    False   \n",
      "Revenue                           False                    False   \n",
      "\n",
      "                         Informational  Informational_Duration  \\\n",
      "Administrative                   False                   False   \n",
      "Administrative_Duration          False                   False   \n",
      "Informational                    False                   False   \n",
      "Informational_Duration           False                   False   \n",
      "ProductRelated                   False                   False   \n",
      "ProductRelated_Duration          False                   False   \n",
      "BounceRates                      False                   False   \n",
      "ExitRates                        False                   False   \n",
      "PageValues                       False                   False   \n",
      "SpecialDay                       False                   False   \n",
      "OperatingSystems                 False                   False   \n",
      "Browser                          False                   False   \n",
      "Region                           False                   False   \n",
      "TrafficType                      False                   False   \n",
      "Weekend                          False                   False   \n",
      "Revenue                          False                   False   \n",
      "\n",
      "                         ProductRelated  ProductRelated_Duration  BounceRates  \\\n",
      "Administrative                    False                    False        False   \n",
      "Administrative_Duration           False                    False        False   \n",
      "Informational                     False                    False        False   \n",
      "Informational_Duration            False                    False        False   \n",
      "ProductRelated                    False                    False        False   \n",
      "ProductRelated_Duration           False                    False        False   \n",
      "BounceRates                       False                    False        False   \n",
      "ExitRates                         False                    False        False   \n",
      "PageValues                        False                    False        False   \n",
      "SpecialDay                        False                    False        False   \n",
      "OperatingSystems                  False                    False        False   \n",
      "Browser                           False                    False        False   \n",
      "Region                            False                    False        False   \n",
      "TrafficType                       False                    False        False   \n",
      "Weekend                           False                    False        False   \n",
      "Revenue                           False                    False        False   \n",
      "\n",
      "                         ExitRates  PageValues  SpecialDay  OperatingSystems  \\\n",
      "Administrative               False       False       False             False   \n",
      "Administrative_Duration      False       False       False             False   \n",
      "Informational                False       False       False             False   \n",
      "Informational_Duration       False       False       False             False   \n",
      "ProductRelated               False       False       False             False   \n",
      "ProductRelated_Duration      False       False       False             False   \n",
      "BounceRates                  False       False       False             False   \n",
      "ExitRates                    False       False       False             False   \n",
      "PageValues                   False       False       False             False   \n",
      "SpecialDay                   False       False       False             False   \n",
      "OperatingSystems             False       False       False             False   \n",
      "Browser                      False       False       False             False   \n",
      "Region                       False       False       False             False   \n",
      "TrafficType                  False       False       False             False   \n",
      "Weekend                      False       False       False             False   \n",
      "Revenue                      False       False       False             False   \n",
      "\n",
      "                         Browser  Region  TrafficType  Weekend  Revenue  \n",
      "Administrative             False   False        False    False    False  \n",
      "Administrative_Duration    False   False        False    False    False  \n",
      "Informational              False   False        False    False    False  \n",
      "Informational_Duration     False   False        False    False    False  \n",
      "ProductRelated             False   False        False    False    False  \n",
      "ProductRelated_Duration    False   False        False    False    False  \n",
      "BounceRates                False   False        False    False    False  \n",
      "ExitRates                  False   False        False    False    False  \n",
      "PageValues                 False   False        False    False    False  \n",
      "SpecialDay                 False   False        False    False    False  \n",
      "OperatingSystems           False   False        False    False    False  \n",
      "Browser                    False   False        False    False    False  \n",
      "Region                     False   False        False    False    False  \n",
      "TrafficType                False   False        False    False    False  \n",
      "Weekend                    False   False        False    False    False  \n",
      "Revenue                    False   False        False    False    False  \n"
     ]
    }
   ],
   "source": [
    "print(corr_matrix<-0.5)"
   ]
  },
  {
   "cell_type": "markdown",
   "metadata": {},
   "source": [
    "The analysys show us that there are not Features with a strong  negative linear relationship and most of the Features have no linear relationship\n",
    "\n",
    "However we have a sighly positive liner relationship between the following features. Where we have order it from highest to lowest ratio,\n",
    "\n",
    "1. Bounce Rates and Exit Rates\n",
    "2. ProductRelated and Product Related Duration\n",
    "\n",
    "And much with a much less relationship we also have:\n",
    "\n",
    "3. Administrative and Administrative_Duration\n",
    "4. Informational and Informational Duration\n",
    "\n",
    "\n",
    "We can use  a scatter plot to visualize each pair of valuables as points in the plane\n"
   ]
  },
  {
   "cell_type": "code",
   "execution_count": 290,
   "metadata": {},
   "outputs": [
    {
     "data": {
      "text/plain": [
       "Text(0.5,1,'Relationship between BounceRates and Exit Rates')"
      ]
     },
     "execution_count": 290,
     "metadata": {},
     "output_type": "execute_result"
    },
    {
     "data": {
      "image/png": "[encoded data removed]",
      "text/plain": [
       "<Figure size 432x288 with 1 Axes>"
      ]
     },
     "metadata": {},
     "output_type": "display_data"
    }
   ],
   "source": [
    "plt.scatter(data['BounceRates'],data['ExitRates'])\n",
    "plt.title('Relationship between BounceRates and Exit Rates')\n"
   ]
  },
  {
   "cell_type": "code",
   "execution_count": 291,
   "metadata": {},
   "outputs": [
    {
     "data": {
      "text/plain": [
       "Text(0.5,1,'Relationship  between ProductRelated Duration and Product Related ')"
      ]
     },
     "execution_count": 291,
     "metadata": {},
     "output_type": "execute_result"
    },
    {
     "data": {
      "image/png": "[encoded data removed]",
      "text/plain": [
       "<Figure size 432x288 with 1 Axes>"
      ]
     },
     "metadata": {},
     "output_type": "display_data"
    }
   ],
   "source": [
    "plt.scatter(data['ProductRelated_Duration'],data['ProductRelated'])\n",
    "plt.title('Relationship  between ProductRelated Duration and Product Related ')"
   ]
  },
  {
   "cell_type": "code",
   "execution_count": 292,
   "metadata": {},
   "outputs": [
    {
     "data": {
      "text/plain": [
       "Text(0.5,1,'Relationship  between Administrative_Duration and Administrative')"
      ]
     },
     "execution_count": 292,
     "metadata": {},
     "output_type": "execute_result"
    },
    {
     "data": {
      "image/png": "[encoded data removed]",
      "text/plain": [
       "<Figure size 432x288 with 1 Axes>"
      ]
     },
     "metadata": {},
     "output_type": "display_data"
    }
   ],
   "source": [
    "plt.scatter(data['Administrative_Duration'],data['Administrative'])\n",
    "plt.title('Relationship  between Administrative_Duration and Administrative')"
   ]
  },
  {
   "cell_type": "code",
   "execution_count": 293,
   "metadata": {},
   "outputs": [
    {
     "data": {
      "text/plain": [
       "Text(0.5,1,'Relationship  between Informational and Informational_Duration')"
      ]
     },
     "execution_count": 293,
     "metadata": {},
     "output_type": "execute_result"
    },
    {
     "data": {
      "image/png": "[encoded data removed]",
      "text/plain": [
       "<Figure size 432x288 with 1 Axes>"
      ]
     },
     "metadata": {},
     "output_type": "display_data"
    }
   ],
   "source": [
    "plt.scatter(data['Informational'],data['Informational_Duration'])\n",
    "plt.title('Relationship  between Informational and Informational_Duration')"
   ]
  },
  {
   "cell_type": "code",
   "execution_count": 294,
   "metadata": {},
   "outputs": [],
   "source": [
    "\n"
   ]
  },
  {
   "cell_type": "code",
   "execution_count": 295,
   "metadata": {},
   "outputs": [
    {
     "data": {
      "text/html": [
       "<div>\n",
       "<style scoped>\n",
       "    .dataframe tbody tr th:only-of-type {\n",
       "        vertical-align: middle;\n",
       "    }\n",
       "\n",
       "    .dataframe tbody tr th {\n",
       "        vertical-align: top;\n",
       "    }\n",
       "\n",
       "    .dataframe thead th {\n",
       "        text-align: right;\n",
       "    }\n",
       "</style>\n",
       "<table border=\"1\" class=\"dataframe\">\n",
       "  <thead>\n",
       "    <tr style=\"text-align: right;\">\n",
       "      <th></th>\n",
       "      <th>Administrative</th>\n",
       "      <th>Administrative_Duration</th>\n",
       "      <th>Informational</th>\n",
       "      <th>Informational_Duration</th>\n",
       "      <th>ProductRelated</th>\n",
       "      <th>ProductRelated_Duration</th>\n",
       "      <th>BounceRates</th>\n",
       "      <th>ExitRates</th>\n",
       "      <th>PageValues</th>\n",
       "      <th>SpecialDay</th>\n",
       "      <th>OperatingSystems</th>\n",
       "      <th>Browser</th>\n",
       "      <th>Region</th>\n",
       "      <th>TrafficType</th>\n",
       "    </tr>\n",
       "  </thead>\n",
       "  <tbody>\n",
       "    <tr>\n",
       "      <th>count</th>\n",
       "      <td>12330.000000</td>\n",
       "      <td>12330.000000</td>\n",
       "      <td>12330.000000</td>\n",
       "      <td>12330.000000</td>\n",
       "      <td>12330.000000</td>\n",
       "      <td>12330.000000</td>\n",
       "      <td>12330.000000</td>\n",
       "      <td>12330.000000</td>\n",
       "      <td>12330.000000</td>\n",
       "      <td>12330.000000</td>\n",
       "      <td>12330.000000</td>\n",
       "      <td>12330.000000</td>\n",
       "      <td>12330.000000</td>\n",
       "      <td>12330.000000</td>\n",
       "    </tr>\n",
       "    <tr>\n",
       "      <th>mean</th>\n",
       "      <td>2.315166</td>\n",
       "      <td>80.818611</td>\n",
       "      <td>0.503569</td>\n",
       "      <td>34.472398</td>\n",
       "      <td>31.731468</td>\n",
       "      <td>1194.746220</td>\n",
       "      <td>0.022191</td>\n",
       "      <td>0.043073</td>\n",
       "      <td>5.889258</td>\n",
       "      <td>0.061427</td>\n",
       "      <td>2.124006</td>\n",
       "      <td>2.357097</td>\n",
       "      <td>3.147364</td>\n",
       "      <td>4.069586</td>\n",
       "    </tr>\n",
       "    <tr>\n",
       "      <th>std</th>\n",
       "      <td>3.321784</td>\n",
       "      <td>176.779107</td>\n",
       "      <td>1.270156</td>\n",
       "      <td>140.749294</td>\n",
       "      <td>44.475503</td>\n",
       "      <td>1913.669288</td>\n",
       "      <td>0.048488</td>\n",
       "      <td>0.048597</td>\n",
       "      <td>18.568437</td>\n",
       "      <td>0.198917</td>\n",
       "      <td>0.911325</td>\n",
       "      <td>1.717277</td>\n",
       "      <td>2.401591</td>\n",
       "      <td>4.025169</td>\n",
       "    </tr>\n",
       "    <tr>\n",
       "      <th>min</th>\n",
       "      <td>0.000000</td>\n",
       "      <td>0.000000</td>\n",
       "      <td>0.000000</td>\n",
       "      <td>0.000000</td>\n",
       "      <td>0.000000</td>\n",
       "      <td>0.000000</td>\n",
       "      <td>0.000000</td>\n",
       "      <td>0.000000</td>\n",
       "      <td>0.000000</td>\n",
       "      <td>0.000000</td>\n",
       "      <td>1.000000</td>\n",
       "      <td>1.000000</td>\n",
       "      <td>1.000000</td>\n",
       "      <td>1.000000</td>\n",
       "    </tr>\n",
       "    <tr>\n",
       "      <th>25%</th>\n",
       "      <td>0.000000</td>\n",
       "      <td>0.000000</td>\n",
       "      <td>0.000000</td>\n",
       "      <td>0.000000</td>\n",
       "      <td>7.000000</td>\n",
       "      <td>184.137500</td>\n",
       "      <td>0.000000</td>\n",
       "      <td>0.014286</td>\n",
       "      <td>0.000000</td>\n",
       "      <td>0.000000</td>\n",
       "      <td>2.000000</td>\n",
       "      <td>2.000000</td>\n",
       "      <td>1.000000</td>\n",
       "      <td>2.000000</td>\n",
       "    </tr>\n",
       "    <tr>\n",
       "      <th>50%</th>\n",
       "      <td>1.000000</td>\n",
       "      <td>7.500000</td>\n",
       "      <td>0.000000</td>\n",
       "      <td>0.000000</td>\n",
       "      <td>18.000000</td>\n",
       "      <td>598.936905</td>\n",
       "      <td>0.003112</td>\n",
       "      <td>0.025156</td>\n",
       "      <td>0.000000</td>\n",
       "      <td>0.000000</td>\n",
       "      <td>2.000000</td>\n",
       "      <td>2.000000</td>\n",
       "      <td>3.000000</td>\n",
       "      <td>2.000000</td>\n",
       "    </tr>\n",
       "    <tr>\n",
       "      <th>75%</th>\n",
       "      <td>4.000000</td>\n",
       "      <td>93.256250</td>\n",
       "      <td>0.000000</td>\n",
       "      <td>0.000000</td>\n",
       "      <td>38.000000</td>\n",
       "      <td>1464.157213</td>\n",
       "      <td>0.016813</td>\n",
       "      <td>0.050000</td>\n",
       "      <td>0.000000</td>\n",
       "      <td>0.000000</td>\n",
       "      <td>3.000000</td>\n",
       "      <td>2.000000</td>\n",
       "      <td>4.000000</td>\n",
       "      <td>4.000000</td>\n",
       "    </tr>\n",
       "    <tr>\n",
       "      <th>max</th>\n",
       "      <td>27.000000</td>\n",
       "      <td>3398.750000</td>\n",
       "      <td>24.000000</td>\n",
       "      <td>2549.375000</td>\n",
       "      <td>705.000000</td>\n",
       "      <td>63973.522230</td>\n",
       "      <td>0.200000</td>\n",
       "      <td>0.200000</td>\n",
       "      <td>361.763742</td>\n",
       "      <td>1.000000</td>\n",
       "      <td>8.000000</td>\n",
       "      <td>13.000000</td>\n",
       "      <td>9.000000</td>\n",
       "      <td>20.000000</td>\n",
       "    </tr>\n",
       "  </tbody>\n",
       "</table>\n",
       "</div>"
      ],
      "text/plain": [
       "       Administrative  Administrative_Duration  Informational  \\\n",
       "count    12330.000000             12330.000000   12330.000000   \n",
       "mean         2.315166                80.818611       0.503569   \n",
       "std          3.321784               176.779107       1.270156   \n",
       "min          0.000000                 0.000000       0.000000   \n",
       "25%          0.000000                 0.000000       0.000000   \n",
       "50%          1.000000                 7.500000       0.000000   \n",
       "75%          4.000000                93.256250       0.000000   \n",
       "max         27.000000              3398.750000      24.000000   \n",
       "\n",
       "       Informational_Duration  ProductRelated  ProductRelated_Duration  \\\n",
       "count            12330.000000    12330.000000             12330.000000   \n",
       "mean                34.472398       31.731468              1194.746220   \n",
       "std                140.749294       44.475503              1913.669288   \n",
       "min                  0.000000        0.000000                 0.000000   \n",
       "25%                  0.000000        7.000000               184.137500   \n",
       "50%                  0.000000       18.000000               598.936905   \n",
       "75%                  0.000000       38.000000              1464.157213   \n",
       "max               2549.375000      705.000000             63973.522230   \n",
       "\n",
       "        BounceRates     ExitRates    PageValues    SpecialDay  \\\n",
       "count  12330.000000  12330.000000  12330.000000  12330.000000   \n",
       "mean       0.022191      0.043073      5.889258      0.061427   \n",
       "std        0.048488      0.048597     18.568437      0.198917   \n",
       "min        0.000000      0.000000      0.000000      0.000000   \n",
       "25%        0.000000      0.014286      0.000000      0.000000   \n",
       "50%        0.003112      0.025156      0.000000      0.000000   \n",
       "75%        0.016813      0.050000      0.000000      0.000000   \n",
       "max        0.200000      0.200000    361.763742      1.000000   \n",
       "\n",
       "       OperatingSystems       Browser        Region   TrafficType  \n",
       "count      12330.000000  12330.000000  12330.000000  12330.000000  \n",
       "mean           2.124006      2.357097      3.147364      4.069586  \n",
       "std            0.911325      1.717277      2.401591      4.025169  \n",
       "min            1.000000      1.000000      1.000000      1.000000  \n",
       "25%            2.000000      2.000000      1.000000      2.000000  \n",
       "50%            2.000000      2.000000      3.000000      2.000000  \n",
       "75%            3.000000      2.000000      4.000000      4.000000  \n",
       "max            8.000000     13.000000      9.000000     20.000000  "
      ]
     },
     "execution_count": 295,
     "metadata": {},
     "output_type": "execute_result"
    }
   ],
   "source": [
    "#Lets execute a Five-number summary of a distribution \n",
    "(data.describe())\n"
   ]
  },
  {
   "cell_type": "code",
   "execution_count": 1,
   "metadata": {
    "ExecuteTime": {
     "end_time": "2021-01-31T01:50:39.975962Z",
     "start_time": "2021-01-31T01:50:39.849385Z"
    }
   },
   "outputs": [
    {
     "ename": "NameError",
     "evalue": "name 'data' is not defined",
     "output_type": "error",
     "traceback": [
      "\u001b[1;31m---------------------------------------------------------------------------\u001b[0m",
      "\u001b[1;31mNameError\u001b[0m                                 Traceback (most recent call last)",
      "\u001b[1;32m<ipython-input-1-45c3fcddab53>\u001b[0m in \u001b[0;36m<module>\u001b[1;34m\u001b[0m\n\u001b[1;32m----> 1\u001b[1;33m \u001b[0mdata\u001b[0m\u001b[1;33m.\u001b[0m\u001b[0mboxplot\u001b[0m\u001b[1;33m(\u001b[0m\u001b[1;33m)\u001b[0m\u001b[1;33m\u001b[0m\u001b[1;33m\u001b[0m\u001b[0m\n\u001b[0m",
      "\u001b[1;31mNameError\u001b[0m: name 'data' is not defined"
     ]
    }
   ],
   "source": [
    "data.boxplot()"
   ]
  },
  {
   "cell_type": "markdown",
   "metadata": {},
   "source": [
    " We can see that  Product Related_Duration,Administritative_Duration and Informational_Duration are the features with the biggest standard deviation.We can take a closer look to this features using box plots and histograms:"
   ]
  },
  {
   "cell_type": "code",
   "execution_count": 296,
   "metadata": {},
   "outputs": [
    {
     "data": {
      "text/plain": [
       "<matplotlib.axes._subplots.AxesSubplot at 0x2b08f0ed6d8>"
      ]
     },
     "execution_count": 296,
     "metadata": {},
     "output_type": "execute_result"
    },
    {
     "data": {
      "image/png": "[encoded data removed]",
      "text/plain": [
       "<Figure size 432x288 with 1 Axes>"
      ]
     },
     "metadata": {},
     "output_type": "display_data"
    }
   ],
   "source": [
    "data[['Administrative_Duration']].boxplot()"
   ]
  },
  {
   "cell_type": "code",
   "execution_count": 297,
   "metadata": {},
   "outputs": [
    {
     "data": {
      "text/plain": [
       "<matplotlib.axes._subplots.AxesSubplot at 0x2b08b9d0be0>"
      ]
     },
     "execution_count": 297,
     "metadata": {},
     "output_type": "execute_result"
    },
    {
     "data": {
      "image/png": "[encoded data removed]",
      "text/plain": [
       "<Figure size 432x288 with 1 Axes>"
      ]
     },
     "metadata": {},
     "output_type": "display_data"
    }
   ],
   "source": [
    "data[['ProductRelated_Duration']].boxplot()"
   ]
  },
  {
   "cell_type": "code",
   "execution_count": 298,
   "metadata": {},
   "outputs": [
    {
     "data": {
      "text/plain": [
       "<matplotlib.axes._subplots.AxesSubplot at 0x2b0802ba8d0>"
      ]
     },
     "execution_count": 298,
     "metadata": {},
     "output_type": "execute_result"
    },
    {
     "data": {
      "image/png": "[encoded data removed]",
      "text/plain": [
       "<Figure size 432x288 with 1 Axes>"
      ]
     },
     "metadata": {},
     "output_type": "display_data"
    }
   ],
   "source": [
    "data[['Informational_Duration']].boxplot()"
   ]
  },
  {
   "cell_type": "markdown",
   "metadata": {},
   "source": [
    "From the boxplots we can see that Informational Duration has a big amount of Outliers,i.e points beyond whiskers and this points are so far from the median."
   ]
  },
  {
   "cell_type": "markdown",
   "metadata": {},
   "source": [
    "Finally,we are going to create an histogram to analyse the frecuencie distribution of data features."
   ]
  },
  {
   "cell_type": "code",
   "execution_count": 299,
   "metadata": {},
   "outputs": [
    {
     "data": {
      "image/png": "[encoded data removed]",
      "text/plain": [
       "<Figure size 1440x720 with 6 Axes>"
      ]
     },
     "metadata": {},
     "output_type": "display_data"
    }
   ],
   "source": [
    "from matplotlib.pyplot import figure\n",
    "fig=(data[['Administrative_Duration','Administrative','Informational','Informational_Duration','ProductRelated','ProductRelated_Duration']]).hist(figsize=(20, 10))\n"
   ]
  },
  {
   "cell_type": "code",
   "execution_count": 300,
   "metadata": {},
   "outputs": [
    {
     "data": {
      "image/png": "[encoded data removed]",
      "text/plain": [
       "<Figure size 1224x720 with 9 Axes>"
      ]
     },
     "metadata": {},
     "output_type": "display_data"
    }
   ],
   "source": [
    "fig=(data[['BounceRates','ExitRates','PageValues','SpecialDay','Month','OperatingSystems','Browser','Region','TrafficType','Weekend']]).hist(figsize=(17, 10))\n"
   ]
  },
  {
   "cell_type": "markdown",
   "metadata": {},
   "source": [
    "From the the histograms we can see that Exit Rates and Region present the data more distributed than the other features.Other features in which data is distributed are , although in less proportion, : OperatingSystems, Traffic Type and Administrative."
   ]
  },
  {
   "cell_type": "markdown",
   "metadata": {},
   "source": [
    "# DATA PRE-PROCESSING"
   ]
  },
  {
   "cell_type": "markdown",
   "metadata": {},
   "source": [
    "**1.Dealing with missing values**"
   ]
  },
  {
   "cell_type": "markdown",
   "metadata": {},
   "source": [
    "We first check if there are missing qualities in each component, 0 for no missing worth or the number for the quantity of missing qualities."
   ]
  },
  {
   "cell_type": "code",
   "execution_count": 3,
   "metadata": {
    "ExecuteTime": {
     "end_time": "2021-01-31T18:29:23.985019Z",
     "start_time": "2021-01-31T18:29:23.968064Z"
    }
   },
   "outputs": [
    {
     "ename": "NameError",
     "evalue": "name 'data' is not defined",
     "output_type": "error",
     "traceback": [
      "\u001b[1;31m---------------------------------------------------------------------------\u001b[0m",
      "\u001b[1;31mNameError\u001b[0m                                 Traceback (most recent call last)",
      "\u001b[1;32m<ipython-input-3-a6fe661c86ff>\u001b[0m in \u001b[0;36m<module>\u001b[1;34m\u001b[0m\n\u001b[1;32m----> 1\u001b[1;33m \u001b[0mdata\u001b[0m\u001b[1;33m.\u001b[0m\u001b[0misnull\u001b[0m\u001b[1;33m(\u001b[0m\u001b[1;33m)\u001b[0m\u001b[1;33m.\u001b[0m\u001b[0msum\u001b[0m\u001b[1;33m(\u001b[0m\u001b[1;33m)\u001b[0m\u001b[1;33m\u001b[0m\u001b[1;33m\u001b[0m\u001b[0m\n\u001b[0m",
      "\u001b[1;31mNameError\u001b[0m: name 'data' is not defined"
     ]
    }
   ],
   "source": [
    "data.isnull().sum()   "
   ]
  },
  {
   "cell_type": "markdown",
   "metadata": {},
   "source": [
    "As we can see from above, there are not missing values within the dataset.Thus,in this particular case no further action is required."
   ]
  },
  {
   "cell_type": "markdown",
   "metadata": {},
   "source": [
    "**2.Encoding categorical features**"
   ]
  },
  {
   "cell_type": "markdown",
   "metadata": {},
   "source": [
    "The dataset consists of 10 numerical and 8 categorical attributes.\n",
    "\n",
    "Categorical=SpecialDay,Month,OperatingSystems,Browser,Region,TrafficType,VisitorType,Weekend,Revenue\n",
    "\n",
    "Numerial=Administrative, Administrative_Duration,  Informational,  Informational_Duration,ProductRelated,   ProductRelated_Duration ,BounceRates ExitRates ,PageValues   \n",
    "\n",
    "For the 8 categorical attributes : 4 are still catageorical in the dataset (Month,Visitor Type,Weekend and Revenue and will ned too be transformed into numeric values on the pre-processing part.)\n",
    "The other 5 categorical values SpecialDay,OperatingSystems,Browser,Region,TrafficType have alredy been converted to numerical values in the dataset,so no further action is required"
   ]
  },
  {
   "cell_type": "code",
   "execution_count": 302,
   "metadata": {},
   "outputs": [],
   "source": [
    "#We will use label Encoder in order to transform categorical values to machine-readable values"
   ]
  },
  {
   "cell_type": "code",
   "execution_count": null,
   "metadata": {},
   "outputs": [],
   "source": []
  },
  {
   "cell_type": "code",
   "execution_count": 303,
   "metadata": {},
   "outputs": [],
   "source": [
    "from  sklearn import preprocessing\n",
    "from sklearn.preprocessing import OneHotEncoder"
   ]
  },
  {
   "cell_type": "code",
   "execution_count": 304,
   "metadata": {},
   "outputs": [],
   "source": [
    "labencoder=preprocessing.LabelEncoder()"
   ]
  },
  {
   "cell_type": "code",
   "execution_count": 305,
   "metadata": {},
   "outputs": [
    {
     "data": {
      "text/plain": [
       "array([0, 1], dtype=int64)"
      ]
     },
     "execution_count": 305,
     "metadata": {},
     "output_type": "execute_result"
    }
   ],
   "source": [
    "data['Month']=labencoder.fit_transform(data['Month'])\n",
    "data['Month'].unique()\n",
    "\n",
    "data['VisitorType']=labencoder.fit_transform(data['VisitorType'])\n",
    "data['VisitorType'].unique()\n",
    "\n",
    "data['Weekend']=labencoder.fit_transform(data['Weekend'])\n",
    "data['Weekend'].unique()\n",
    "\n",
    "data['Revenue']=labencoder.fit_transform(data['Revenue'])\n",
    "data['Revenue'].unique()"
   ]
  },
  {
   "cell_type": "markdown",
   "metadata": {},
   "source": [
    "**3.Feature selection **"
   ]
  },
  {
   "cell_type": "code",
   "execution_count": 329,
   "metadata": {},
   "outputs": [
    {
     "name": "stdout",
     "output_type": "stream",
     "text": [
      "                   Features          Score\n",
      "5   ProductRelated_Duration  877404.339415\n",
      "8                PageValues  175126.808512\n",
      "1   Administrative_Duration   41754.836841\n",
      "3    Informational_Duration   35059.775770\n",
      "4            ProductRelated   19317.285376\n",
      "0            Administrative    1133.965531\n",
      "2             Informational     357.981605\n",
      "10                    Month      86.163696\n",
      "9                SpecialDay      53.797094\n",
      "15              VisitorType      37.547523\n",
      "6               BounceRates      29.654336\n",
      "7                 ExitRates      28.985072\n"
     ]
    }
   ],
   "source": [
    "\n",
    "from sklearn.feature_selection import SelectKBest\n",
    "from sklearn.feature_selection import chi2\n",
    "\n",
    "X=dataenc.iloc[:,[0,1,2,3,4,5,6,7,8,9,10,11,12,13,15,16,17,18,19,20,21,22,23,24,25,26,27,28,29]]\n",
    "Y=dataenc.iloc[:,[14]]\n",
    "\n",
    "Selectbestfeatures=SelectKBest(score_func=chi2,k=10)\n",
    "\n",
    "train=Selectbestfeatures.fit(X,Y)\n",
    "datascores=pd.DataFrame(train.scores_)\n",
    "datacolumns=pd.DataFrame(X.columns)\n",
    "\n",
    "Scores_features=pd.concat([datacolumns,datascores],axis=1)\n",
    "Scores_features.columns=['Features','Score']\n",
    "print(Scores_features.nlargest(10,'Score'))  #the TOP 10 most important features are:\n"
   ]
  },
  {
   "cell_type": "code",
   "execution_count": 347,
   "metadata": {},
   "outputs": [],
   "source": [
    "datapreprocessed=data.drop(columns=['OperatingSystems', 'Browser','Region','TrafficType','Weekend',])\n",
    "X=datapreprocessed.iloc[:,:-1].values\n",
    "y=datapreprocessed.iloc[:,12].values\n"
   ]
  },
  {
   "cell_type": "markdown",
   "metadata": {},
   "source": [
    "**4.Feature scaling**"
   ]
  },
  {
   "cell_type": "markdown",
   "metadata": {},
   "source": [
    "We will use this pre-processing tehcnique to reduce extreme boundary values in some features"
   ]
  },
  {
   "cell_type": "code",
   "execution_count": 353,
   "metadata": {},
   "outputs": [],
   "source": [
    "from sklearn.preprocessing import MinMaxScaler\n",
    "from sklearn.preprocessing import StandardScaler\n",
    "from sklearn.model_selection import train_test_split\n",
    "minMax_scale = MinMaxScaler()   # to default range [0, 1]\n",
    "datapreprocessed['Administrative_Duration'] = minMax_scale.fit_transform(data[['Administrative_Duration']])\n",
    "datapreprocessed['Informational_Duration'] = minMax_scale.fit_transform(data[['Informational_Duration']])\n",
    "datapreprocessed['ProductRelated_Duration'] = minMax_scale.fit_transform(data[['ProductRelated_Duration']])\n",
    "datapreprocessed['ProductRelated'] = minMax_scale.fit_transform(data[['ProductRelated']])\n",
    "datapreprocessed['PageValues'] = minMax_scale.fit_transform(data[['PageValues']])\n",
    "\n",
    "\n",
    "X_train, X_test, y_train, y_test = train_test_split(X, y, test_size=0.30)\n",
    "\n",
    "scaler = StandardScaler()\n",
    "scaler.fit(X_train)\n",
    "\n",
    "X_train = scaler.transform(X_train)\n",
    "X_test = scaler.transform(X_test)"
   ]
  },
  {
   "cell_type": "markdown",
   "metadata": {},
   "source": [
    "# Model implementation "
   ]
  },
  {
   "cell_type": "markdown",
   "metadata": {},
   "source": [
    "**1.K-Neighbors**\n",
    "\n"
   ]
  },
  {
   "cell_type": "code",
   "execution_count": 340,
   "metadata": {},
   "outputs": [
    {
     "data": {
      "text/plain": [
       "KNeighborsClassifier(algorithm='auto', leaf_size=30, metric='minkowski',\n",
       "           metric_params=None, n_jobs=1, n_neighbors=6, p=2,\n",
       "           weights='uniform')"
      ]
     },
     "execution_count": 340,
     "metadata": {},
     "output_type": "execute_result"
    }
   ],
   "source": [
    "from sklearn.neighbors import KNeighborsClassifier\n",
    "\n"
   ]
  },
  {
   "cell_type": "code",
   "execution_count": 342,
   "metadata": {},
   "outputs": [
    {
     "data": {
      "text/plain": [
       "Text(0,0.5,'Mean Error')"
      ]
     },
     "execution_count": 342,
     "metadata": {},
     "output_type": "execute_result"
    },
    {
     "data": {
      "image/png": "[encoded data removed]",
      "text/plain": [
       "<Figure size 864x432 with 1 Axes>"
      ]
     },
     "metadata": {},
     "output_type": "display_data"
    }
   ],
   "source": [
    "error = []\n",
    "\n",
    "# Calculating error for K values between 1 and 40\n",
    "for i in range(1, 40):\n",
    "    knn = KNeighborsClassifier(n_neighbors=i)\n",
    "    knn.fit(X_train, y_train)\n",
    "    pred_i = knn.predict(X_test)\n",
    "    error.append(np.mean(pred_i != y_test))\n",
    "    \n",
    "plt.figure(figsize=(12, 6))\n",
    "plt.plot(range(1, 40), error, color='red', linestyle='dashed', marker='o',\n",
    "         markerfacecolor='blue', markersize=10)\n",
    "plt.title('Error Rate K Value')\n",
    "plt.xlabel('K Value')\n",
    "plt.ylabel('Mean Error')"
   ]
  },
  {
   "cell_type": "code",
   "execution_count": 354,
   "metadata": {},
   "outputs": [],
   "source": [
    "classifier = KNeighborsClassifier(n_neighbors=25)\n",
    "classifier.fit(X_train, y_train)\n",
    "y_pred1 = classifier.predict(X_test)"
   ]
  },
  {
   "cell_type": "markdown",
   "metadata": {},
   "source": [
    "**2. Support Vector Machines**"
   ]
  },
  {
   "cell_type": "code",
   "execution_count": 355,
   "metadata": {},
   "outputs": [],
   "source": [
    "from sklearn.svm import SVC\n",
    "svclassifier = SVC(kernel='linear')\n",
    "svclassifier.fit(X_train, y_train)\n",
    "y_pred2 = svclassifier.predict(X_test)\n"
   ]
  },
  {
   "cell_type": "markdown",
   "metadata": {},
   "source": [
    "**3.Decision trees\n",
    "**"
   ]
  },
  {
   "cell_type": "code",
   "execution_count": 356,
   "metadata": {},
   "outputs": [],
   "source": [
    "from sklearn.tree import DecisionTreeClassifier\n",
    "classifier = DecisionTreeClassifier()\n",
    "classifier.fit(X_train, y_train)\n",
    "y_pred3 = classifier.predict(X_test)"
   ]
  },
  {
   "cell_type": "markdown",
   "metadata": {},
   "source": [
    "# Performance Evaluation"
   ]
  },
  {
   "cell_type": "markdown",
   "metadata": {},
   "source": [
    " **1.K-eighbors**\n"
   ]
  },
  {
   "cell_type": "code",
   "execution_count": 357,
   "metadata": {},
   "outputs": [
    {
     "name": "stdout",
     "output_type": "stream",
     "text": [
      "[[3060   63]\n",
      " [ 354  222]]\n",
      "             precision    recall  f1-score   support\n",
      "\n",
      "          0       0.90      0.98      0.94      3123\n",
      "          1       0.78      0.39      0.52       576\n",
      "\n",
      "avg / total       0.88      0.89      0.87      3699\n",
      "\n"
     ]
    }
   ],
   "source": [
    "from sklearn.metrics import classification_report, confusion_matrix\n",
    "print(confusion_matrix(y_test, y_pred1))\n",
    "print(classification_report(y_test, y_pred1))"
   ]
  },
  {
   "cell_type": "markdown",
   "metadata": {},
   "source": [
    "**2. Support Vector Machines**"
   ]
  },
  {
   "cell_type": "code",
   "execution_count": 358,
   "metadata": {},
   "outputs": [
    {
     "name": "stdout",
     "output_type": "stream",
     "text": [
      "[[3055   68]\n",
      " [ 353  223]]\n",
      "             precision    recall  f1-score   support\n",
      "\n",
      "          0       0.90      0.98      0.94      3123\n",
      "          1       0.77      0.39      0.51       576\n",
      "\n",
      "avg / total       0.88      0.89      0.87      3699\n",
      "\n"
     ]
    }
   ],
   "source": [
    "print(confusion_matrix(y_test,y_pred2))\n",
    "print(classification_report(y_test,y_pred2))"
   ]
  },
  {
   "cell_type": "markdown",
   "metadata": {},
   "source": [
    "**3.Decision Trees**"
   ]
  },
  {
   "cell_type": "code",
   "execution_count": 359,
   "metadata": {},
   "outputs": [
    {
     "name": "stdout",
     "output_type": "stream",
     "text": [
      "[[2832  291]\n",
      " [ 249  327]]\n",
      "             precision    recall  f1-score   support\n",
      "\n",
      "          0       0.92      0.91      0.91      3123\n",
      "          1       0.53      0.57      0.55       576\n",
      "\n",
      "avg / total       0.86      0.85      0.86      3699\n",
      "\n"
     ]
    }
   ],
   "source": [
    "print(confusion_matrix(y_test,y_pred3))\n",
    "print(classification_report(y_test,y_pred3))"
   ]
  }
 ],
 "metadata": {
  "kernelspec": {
   "display_name": "Python 3",
   "language": "python",
   "name": "python3"
  },
  "language_info": {
   "codemirror_mode": {
    "name": "ipython",
    "version": 3
   },
   "file_extension": ".py",
   "mimetype": "text/x-python",
   "name": "python",
   "nbconvert_exporter": "python",
   "pygments_lexer": "ipython3",
   "version": "3.8.5"
  },
  "notify_time": "5",
  "toc": {
   "base_numbering": 1,
   "nav_menu": {},
   "number_sections": true,
   "sideBar": true,
   "skip_h1_title": false,
   "title_cell": "Table of Contents",
   "title_sidebar": "Contents",
   "toc_cell": false,
   "toc_position": {},
   "toc_section_display": true,
   "toc_window_display": false
  },
  "varInspector": {
   "cols": {
    "lenName": 16,
    "lenType": 16,
    "lenVar": 40
   },
   "kernels_config": {
    "python": {
     "delete_cmd_postfix": "",
     "delete_cmd_prefix": "del ",
     "library": "var_list.py",
     "varRefreshCmd": "print(var_dic_list())"
    },
    "r": {
     "delete_cmd_postfix": ") ",
     "delete_cmd_prefix": "rm(",
     "library": "var_list.r",
     "varRefreshCmd": "cat(var_dic_list()) "
    }
   },
   "types_to_exclude": [
    "module",
    "function",
    "builtin_function_or_method",
    "instance",
    "_Feature"
   ],
   "window_display": false
  }
 },
 "nbformat": 4,
 "nbformat_minor": 2
}
